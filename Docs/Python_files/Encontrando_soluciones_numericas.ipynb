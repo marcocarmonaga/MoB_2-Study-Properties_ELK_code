{
 "cells": [
  {
   "cell_type": "markdown",
   "metadata": {},
   "source": [
    "<p style=\"text-align:justify\">Hace pocos días, en una tarea más dentro de la investigación en la que estoy involucrado sobre el estudio de las Propiedades estructurales y electrónicas del $\\text{MoB}_2$, la cual consistía en encontrar los valores de volumen correspondientes a unos valores de presión que van desde 0 GPa hasta 150 GPa, tales que se ajustaran a la ecuación de estado de Birch-Murnaghan de tercer orden dada por:</p>\n",
    "\n",
    "$$\n",
    "P(V) = \\frac{3B_0}{2}\\left[\\left(\\frac{V_0}{V}\\right)^\\frac{7}{3}-\\left(\\frac{V_0}{V}\\right)^\\frac{5}{3}\\right]\\left\\{1+\\frac{3}{4}(B_o'-4)\\left[\\left(\\frac{V_0}{V}\\right)^\\frac{2}{3}-1\\right]\\right\\}\n",
    "$$\n",
    "\n",
    "<p style=\"text-align:justify\">Donde $P$ es la presión, $V_0$ es nuestro volumen de equilibrio, $V$ es el volumen deformado, $B_0$ es nuestro módulo estructural y $B_0’$ es la derivada del módulo estructural con respecto a la presión. Estos dos últimos se obtienen de la siguiente manera:</p>\n",
    "\n",
    "$$\n",
    "B_0=-V\\left(\\frac{\\partial P}{\\partial V}\\right)_{P=0}\n",
    "$$\n",
    "\n",
    "$$\n",
    "B_0'=\\left(\\frac{\\partial B}{\\partial P}\\right)_{P=0}\n",
    "$$\n",
    "\n",
    "<p style=\"text-align:justify\">En pocas palabras, la cuestión radicaba en encontrar el volumen $V$ correspondiente a cada valor de presión $P$ antes mencionado, tal que al evaluarlo en $P(V)$ se cumpliera la ecuación de estado.  Sin embargo, notemos que no es nada sencillo realizar este tipo de tareas con una ecuación tan compleja como lo es la de Birch-Murnaghan. Es por tal motivo que opte por dar utilidad a los métodos numéricos y a mi lenguaje de programación favorito: Python.</p>\n",
    "\n",
    "## Encontrando soluciones numéricas con Python\n",
    "\n",
    "<p style=\"text-align:justify\">Dentro del ecosistema de Python, una de las librerías más recurridas es Sympy, la cual nos permite trabajar con matemáticas simbólicas. Tiene grandes funciones dentro del campo del cálculo, álgebra lineal, criptografía, entre otras.</p>\n",
    "\n",
    "<p style=\"text-align:justify\">En este caso, brindaré un ejemplo de cómo encontrar el valor de $V$ que le corresponda a $P = 1\\text{ GPa}$: de tal manera que al evaluar el valor hallado en $P(V)$, el valor que nos regrese sea el mismo que $P=1\\text{ GPa}$. Dicho lo anterior, ¡vamos al código!</p>\n",
    "\n",
    "### Importando el módulo Sympy\n",
    "\n",
    "<p style=\"text-align:justify\">Al igual que todo proyecto a realizar, lo primero que debemos hacer es importar nuestros módulos a ocupar. En nuestro caso, nos bastará con las siguientes dos líneas.</p>"
   ]
  },
  {
   "cell_type": "code",
   "execution_count": 1,
   "metadata": {},
   "outputs": [],
   "source": [
    "from sympy.solvers import solve\n",
    "from sympy import Symbol"
   ]
  },
  {
   "cell_type": "markdown",
   "metadata": {},
   "source": [
    "### Definiendo constantes\n",
    "\n",
    "<p style=\"text-align:justify\">Notemos que en la ecuación de estado antes dada, tenemos constantes y variables. Lo importante aquí es mencionar que las únicas dos variables son $P$ y $V$; por caso contrario, $V_0$, $B_0$ y $B_0’$ están bien definidas por procesos externos realizados con anticipación. Sus valores son los siguientes:</p>"
   ]
  },
  {
   "cell_type": "code",
   "execution_count": 2,
   "metadata": {},
   "outputs": [],
   "source": [
    "V0: complex = 178.3437592 #u^3\n",
    "B0: complex = 301.3938889054221 #GPa\n",
    "B_PRIME: complex = 4.190756356"
   ]
  },
  {
   "cell_type": "markdown",
   "metadata": {},
   "source": [
    "### Definiendo nuestra función\n",
    "\n",
    "<p style=\"text-align:justify\">Posterior a ello, procedemos a definir nuestra función con la que vamos a trabajar, la cual en este caso está dada por la ecuación de estado de Birch-Murnaghan de tercer orden.</p>"
   ]
  },
  {
   "cell_type": "code",
   "execution_count": 3,
   "metadata": {},
   "outputs": [],
   "source": [
    "def P(V: complex) -> complex:\n",
    "    return (3 / 2) * B0 * ((V0 / V)**(7/3) - (V0 / V)**(5/3)) * (1 + (3/4)*(B_PRIME - 4)*((V0 / V)**(2 / 3) - 1))  # GPa"
   ]
  },
  {
   "cell_type": "markdown",
   "metadata": {},
   "source": [
    "<p style=\"text-align:justify\">Hasta este punto lo único que hemos realizado es exportar los módulos que utilizaremos; definir nuestras constantes y finalmente expresar en código nuestra función. Hecho esto, viene la parte final.</p>\n",
    "\n",
    "### Encontrando nuestra solución numérica\n",
    "\n",
    "<p style=\"text-align:justify\">Un paso antes de proceder a encontrar finalmente la solución, es definir nuestra variable que buscamos obtener; la cual en nuestro caso particular es $V$, ello lo hacemos de la siguiente manera:</p>"
   ]
  },
  {
   "cell_type": "code",
   "execution_count": 4,
   "metadata": {},
   "outputs": [],
   "source": [
    "V = Symbol('V')"
   ]
  },
  {
   "cell_type": "markdown",
   "metadata": {},
   "source": [
    "<p style=\"text-align:justify\">Ahora bien, el último paso consiste en dar utilidad de la función solve de sympy para poder encontrar el valor de $V$ cuando $P=1\\text{ GPa}$ pero previo es importante decir que solve únicamente procesa funciones homogéneas, es por ello, que nuestra ecuación pasaría de tener la siguiente forma</p>\n",
    "\n",
    "$$\n",
    "1 = \\frac{3B_0}{2}\\left[\\left(\\frac{V_0}{V}\\right)^\\frac{7}{3}-\\left(\\frac{V_0}{V}\\right)^\\frac{5}{3}\\right]\\left\\{1+\\frac{3}{4}(B_o'-4)\\left[\\left(\\frac{V_0}{V}\\right)^\\frac{2}{3}-1\\right]\\right\\}\n",
    "$$\n",
    "\n",
    "<p style=\"text-align:justify\">A la siguiente forma:</p>\n",
    "\n",
    "$$\n",
    "0 = \\frac{3B_0}{2}\\left[\\left(\\frac{V_0}{V}\\right)^\\frac{7}{3}-\\left(\\frac{V_0}{V}\\right)^\\frac{5}{3}\\right]\\left\\{1+\\frac{3}{4}(B_o'-4)\\left[\\left(\\frac{V_0}{V}\\right)^\\frac{2}{3}-1\\right]\\right\\}-1\n",
    "$$\n",
    "\n",
    "<p style=\"text-align:justify\">Lo que es equivalente a escribirlo de la siguiente manera:</p>\n",
    "\n",
    "$$\n",
    "0 = P(V)-1\n",
    "$$\n",
    "\n",
    "<p style=\"text-align:justify\">Y la sintaxis de la función solve es la siguiente dentro del código de python.</p>\n",
    "\n",
    "<code>solve(ecuación_homogenea, variable_a_encontrar)</code>\n",
    "\n",
    "<p style=\"text-align:justify\">Así, llevándolo al código, tenemos lo siguiente:</p>"
   ]
  },
  {
   "cell_type": "code",
   "execution_count": 5,
   "metadata": {},
   "outputs": [
    {
     "data": {
      "text/plain": [
       "[177.757068274590,\n",
       " -2220.55607425772 - 5898.86162526676*I,\n",
       " -2220.55607425772 + 5898.86162526676*I]"
      ]
     },
     "execution_count": 5,
     "metadata": {},
     "output_type": "execute_result"
    }
   ],
   "source": [
    "solve(P(V)- 1, V)"
   ]
  },
  {
   "cell_type": "markdown",
   "metadata": {},
   "source": [
    "<p style=\"text-align:justify\">Realmente hemos terminando, ahora comprobemos que realmente obtenemos el valor de $1$ como salida al evaluar cada una de las soluciones anteriores en $P(V)$.</p>"
   ]
  },
  {
   "cell_type": "code",
   "execution_count": 6,
   "metadata": {},
   "outputs": [
    {
     "name": "stdout",
     "output_type": "stream",
     "text": [
      "P(177.757068274590)=1.0000000000004494\n",
      "P(-2220.55607425772 - 5898.86162526676j)=(0.9999999999999999+5.776629175002768e-16j)\n",
      "P(-2220.55607425772 + 5898.86162526676j)=(0.9999999999999999-5.776629175002768e-16j)\n"
     ]
    }
   ],
   "source": [
    "print(f'P(177.757068274590)={P(177.757068274590)}')\n",
    "print(f'P(-2220.55607425772 - 5898.86162526676j)={P(-2220.55607425772 - 5898.86162526676j)}')\n",
    "print(f'P(-2220.55607425772 + 5898.86162526676j)={P(-2220.55607425772 + 5898.86162526676j)}')"
   ]
  },
  {
   "cell_type": "markdown",
   "metadata": {},
   "source": [
    "<p style=\"text-align:justify\">¡Listo!, como puedes observar, hemos obtenido nuestras tres respectivas soluciones a la ecuación de estado de Birch-Murnaghan de tercer orden muy aproximadas al valor que buscamos, con un error menos al $5\\%$.</p>\n",
    "\n",
    "<p style=\"text-align:justify\">Es importante resaltar que este es un ejemplo meramente didáctico y con una aplicación, sin embargo se puede consolidar para cualquier otra ecuación que uno desee.</p>\n",
    "\n",
    "<p style=\"text-align:justify\">No pienses dos veces en compartir este post si te resultó interesante, y mejor aún, si te fue de gran ayuda no dudes en invitarnos un café en el botón ubicado abajo. Recuerda, ¡tú puedes marcar la diferencia!</p>"
   ]
  }
 ],
 "metadata": {
  "interpreter": {
   "hash": "0423b1efffaf888f7e1be31383ad45e2161c81313a377e45ff5b8bc32012980f"
  },
  "kernelspec": {
   "display_name": "Python 3",
   "language": "python",
   "name": "python3"
  },
  "language_info": {
   "codemirror_mode": {
    "name": "ipython",
    "version": 3
   },
   "file_extension": ".py",
   "mimetype": "text/x-python",
   "name": "python",
   "nbconvert_exporter": "python",
   "pygments_lexer": "ipython3",
   "version": "3.8.8"
  }
 },
 "nbformat": 4,
 "nbformat_minor": 2
}
