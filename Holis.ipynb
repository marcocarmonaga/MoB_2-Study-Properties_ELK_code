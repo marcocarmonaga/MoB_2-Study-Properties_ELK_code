{
  "nbformat": 4,
  "nbformat_minor": 0,
  "metadata": {
    "colab": {
      "name": "Untitled0.ipynb",
      "provenance": [],
      "authorship_tag": "ABX9TyMjupmTKp0/6n2xM4m0KOje",
      "include_colab_link": true
    },
    "kernelspec": {
      "name": "python3",
      "display_name": "Python 3"
    },
    "language_info": {
      "name": "python"
    }
  },
  "cells": [
    {
      "cell_type": "markdown",
      "metadata": {
        "id": "view-in-github",
        "colab_type": "text"
      },
      "source": [
        "<a href=\"https://colab.research.google.com/github/marcocarmonaga/Elk_projects/blob/main/Holis.ipynb\" target=\"_parent\"><img src=\"https://colab.research.google.com/assets/colab-badge.svg\" alt=\"Open In Colab\"/></a>"
      ]
    },
    {
      "cell_type": "code",
      "metadata": {
        "colab": {
          "base_uri": "https://localhost:8080/"
        },
        "id": "m4RZ6DTFd1F1",
        "outputId": "2dd406d1-6396-4d24-a800-b3a486ae7a53"
      },
      "source": [
        "import numpy as np\n",
        "import matplotlib.pyplot as plt\n",
        "\n",
        "V0 = 178.3437592\n",
        "E0 = -4099.369449\n",
        "B0 = 0.1024416633e-01\n",
        "B0_prime = 4.190756356\n",
        "\n",
        "\n",
        "def P(V):\n",
        "    return (3 * B0 / 2) * ((V0 / V)**(7 / 3)-(V0 / V)**(5 / 3))*(1+(3 / 4)*(B0_prime - 4)*((V0 / V)**(2 / 3) - 1))\n",
        "\n",
        "def c_a(V):\n",
        "    return (c / a) * (V0) + alpha(1-V/V0) +beta(1-V/V0)^2,\n",
        "\n",
        "\n",
        "volumes = [159.30, 194.70, V0, 162.84, 169.92, 184.08,\n",
        "           177.00, 173.46, 180.54, 191.16, 187.62, 166.38]\n",
        "\n",
        "pressure_points = [P(volume) for volume in volumes]\n",
        "\n",
        "for volume, pressure_point in zip(volumes, pressure_points):\n",
        "    print(volume, pressure_point)"
      ],
      "execution_count": 1,
      "outputs": [
        {
          "output_type": "stream",
          "name": "stdout",
          "text": [
            "159.3 0.0014664920511000435\n",
            "194.7 -0.0007481865229081858\n",
            "178.3437592 0.0\n",
            "162.84 0.001127667470391011\n",
            "169.92 0.0005486138804141575\n",
            "184.08 -0.0003035042345802335\n",
            "177.0 7.871638977445895e-05\n",
            "173.46 0.0003014886173674884\n",
            "180.54 -0.00012220898426530918\n",
            "191.16 -0.0006148439908256323\n",
            "187.62 -0.00046713420438327296\n",
            "166.38 0.000822931849963404\n"
          ]
        }
      ]
    }
  ]
}