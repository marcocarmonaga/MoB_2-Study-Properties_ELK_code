{
 "cells": [
  {
   "cell_type": "markdown",
   "metadata": {},
   "source": [
    "<p style = \"text-align:justify\">En el presente documento, se pretende determinar de la manera más precisa posible el valor de $c/a$ que corresponda el mínimo de energía, todo esto a través del ajuste de un polinomio de cuarto grado a la siguiente gráfica.</p>\n",
    "\n",
    "<div align=\"center\">\n",
    "<img src=\"https://drive.google.com/uc?export=view&id=1GnbdSuth5umpo7TRm4U3CuZL1G3MC3gf\" width=\"400em\">\n",
    "</div>\n",
    "\n",
    "<p style = \"text-align:justify\">Para posteriormente determinar la energía mínima con su respectivo valor de $c/a$ relacionado.</p>\n",
    "\n",
    "<p style = \"text-align:justify\">Para ello, daremos utilidad de las funcionalidades de Python, ya que con la ayuda de este lenguaje; además de poder reducir el tiempo de ejecución, también podremos determinar de manera más precisa los cálculos.</p>\n",
    "\n",
    "<p style = \"text-align:justify\">Dicho esto, comenzaremos haciendo mención que lo que se busca es un polinomio de la forma:</p>\n",
    "\n",
    "$$\n",
    "p(x) = p_0 x^4 + p_1 x^3 + p_2 x^2 + p_3 x + p_4\n",
    "$$\n",
    "\n",
    "<p style = \"text-align:justify\">Donde $p_i$ para $i=0,1,2,3,4$ son los coeficientes a determinar. ¿Cómo los vamos a determinar? Gracias al módulo de nombre <code>polyfit</code> dentro de la librería NumPy.</p>\n",
    "\n",
    "<p style = \"text-align:justify\">Cabe aclarar que nuestros datos están alojados en un archivo de nombre <a href=\"https://drive.google.com/file/d/1GpxhQTNKdk6T6efnXd4vX_BQ005Sz4Bd/view?usp=sharing\">Energy_vs_c_a.txt</a>, el cual lo vamos a poder exportar hacia Python de manera muy sencilla con la misma librería anterior.</p>"
   ]
  },
  {
   "cell_type": "code",
   "execution_count": 1,
   "metadata": {},
   "outputs": [],
   "source": [
    "# Importamos el módulo a utilizar\n",
    "import numpy as np\n",
    "\n",
    "# Importamos nuestros datos ubicados en ./Energy_vs_c_a.txt\n",
    "data = np.loadtxt('./Energy_vs_c_a.txt')\n",
    "\n",
    "# Separamos nuestras variables c/a y Energy\n",
    "c_a = data[ : , 0]\n",
    "energy = data[ : , 1]\n",
    "\n",
    "# Procedemos a realizar el ajuste para un polinomio de 4to \n",
    "# grado asignandolo a una nueva variable\n",
    "z = np.polyfit(x = c_a, y = energy, deg = 4)"
   ]
  },
  {
   "cell_type": "markdown",
   "metadata": {},
   "source": [
    "<p style = \"text-align:justify\">Una vez hecho lo anterior, nos bastará con hacer llamar la variable <code>z</code>, para así poder conocer el valor de los coeficiente $p_i$ para $i=0,1,2,3,4$.</p>"
   ]
  },
  {
   "cell_type": "code",
   "execution_count": 2,
   "metadata": {},
   "outputs": [
    {
     "name": "stdout",
     "output_type": "stream",
     "text": [
      "[ 1.79967314e+00 -7.60933507e+00  1.23945255e+01 -9.22364601e+00\n",
      " -4.09672763e+03]\n"
     ]
    }
   ],
   "source": [
    "# Conocemos el valor de los coeficientes\n",
    "print(z)"
   ]
  },
  {
   "cell_type": "markdown",
   "metadata": {},
   "source": [
    "<p style = \"text-align:justify\">De esta manera notamos que $p_0 = 1.79967314e+00$, $p_1 = -7.60933507e+00$, $p_2 = 1.23945255e+01$, $p_3 = -9.22364601e+00$ and $p_4 = -4.09672763e+03$. Llevándonos a que el polinomio $p(x)$ va a ser de la forma:</p>\n",
    "\n",
    "$$\n",
    "p(x) = 1.79967314 x^4 -7.60933507 x^3 + 1.23945255e+01 x^2 - 9.22364601 x -4.09672763e+03\n",
    "$$\n",
    "\n",
    "<p style = \"text-align:justify\">Y es que una vez obtenido el polinomio anterior, podemos proceder a buscar las reices de su derivada para así poder encontrar los mínimos. Para esto daremos utilidad de un módulo más de la misma libería de NumPy, de nombre <code>roots</code>, la cual nos servirá de apoyo para encontrar las raíces del polinomio de grado 3.</p>"
   ]
  },
  {
   "cell_type": "code",
   "execution_count": 3,
   "metadata": {},
   "outputs": [
    {
     "name": "stdout",
     "output_type": "stream",
     "text": [
      "[1.09440181+0.j         1.03836516+0.30425228j 1.03836516-0.30425228j]\n"
     ]
    }
   ],
   "source": [
    "# Definimos un array para la derivada\n",
    "derivative = np.array([z[0]*4 , z[1]*3 , z[2]*2 , z[3]])\n",
    "\n",
    "# Obtenemos sus raíces\n",
    "roots = np.roots(derivative)\n",
    "\n",
    "# Imprimimos en pantalla las raíces\n",
    "print(roots)"
   ]
  },
  {
   "cell_type": "markdown",
   "metadata": {},
   "source": [
    "<p style = \"text-align:justify\">De esta manera logramos observar que tenemos una raíz real y dos raíces imaginarias. Con lo que unicamente trabajaremos con el valor de $1.09440181$, el cual cabe resaltar, corresponde al valor mínimo de $c/a$. Por lo que solo nos basta con encontrar el valor de $p(1.09440181)$. ¿Y cómo hacemos eso? Nuevamente dando utilidad a un módulo más de nombre <code>poly1d</code>. Este último nos ayudará a obtener el valor de $p(1.09440181)$.</p>"
   ]
  },
  {
   "cell_type": "code",
   "execution_count": 4,
   "metadata": {},
   "outputs": [
    {
     "data": {
      "text/plain": [
       "-4099.369394713682"
      ]
     },
     "execution_count": 4,
     "metadata": {},
     "output_type": "execute_result"
    }
   ],
   "source": [
    "# Definimos nuestro polinomio p(x) y p'(x)\n",
    "p = np.poly1d(z)\n",
    "\n",
    "# Evaluamos para p(1.09440181)\n",
    "p(1.09440181)"
   ]
  },
  {
   "cell_type": "markdown",
   "metadata": {},
   "source": [
    "<p style = \"text-align:justify\">Así finalmente obtenemos que el valor de energía correspondiente al valor de $c/a$ está dado por $-4099.369394713682$.</p>\n",
    "\n",
    "<p style = \"text-align:justify\">Por lo tanto, el mínimo se encuentra en el punto $(1.09440181,-4099.369394713682)$.</p>"
   ]
  }
 ],
 "metadata": {
  "interpreter": {
   "hash": "d797c83d7139a02952fcadedf6a1da47d48875e360d6c6ed6ba12c1c51105da9"
  },
  "kernelspec": {
   "display_name": "Python 3 (ipykernel)",
   "language": "python",
   "name": "python3"
  },
  "language_info": {
   "codemirror_mode": {
    "name": "ipython",
    "version": 3
   },
   "file_extension": ".py",
   "mimetype": "text/x-python",
   "name": "python",
   "nbconvert_exporter": "python",
   "pygments_lexer": "ipython3",
   "version": "3.9.6"
  }
 },
 "nbformat": 4,
 "nbformat_minor": 2
}
