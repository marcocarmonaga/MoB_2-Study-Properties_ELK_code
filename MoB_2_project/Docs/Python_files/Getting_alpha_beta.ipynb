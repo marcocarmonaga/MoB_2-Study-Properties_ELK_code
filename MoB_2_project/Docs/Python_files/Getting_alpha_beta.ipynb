{
 "cells": [
  {
   "cell_type": "code",
   "execution_count": 7,
   "metadata": {},
   "outputs": [
    {
     "data": {
      "text/plain": [
       "array([[-0.09152508],\n",
       "       [ 0.0083966 ],\n",
       "       [ 0.09992409]])"
      ]
     },
     "execution_count": 7,
     "metadata": {},
     "output_type": "execute_result"
    }
   ],
   "source": [
    "import numpy as np\n",
    "\n",
    "V0 = 178.3437592\n",
    "c0_a0 = 1.0958578897109787\n",
    "\n",
    "data = np.loadtxt('/home/marcocarmonaga/Documents/Elk_projects/MoB_2_project/c_a_vs_Energy/fits/v_vs_c_a_vs_energy.txt')\n",
    "\n",
    "C_A = np.array(data[:,1])\n",
    "VOLUME = np.array(data[:,0])\n",
    "\n",
    "b = []\n",
    "A = []\n",
    "\n",
    "for c_a, v in zip(C_A, VOLUME):\n",
    "    b_i = c_a-c0_a0\n",
    "    a_i = [1, -v/ V0, (v / V0)**2]\n",
    "    b.append(b_i)\n",
    "    A.append(a_i)\n",
    "\n",
    "A = np.array(A)\n",
    "b = np.array(b)\n",
    "b = np.vstack(b)\n",
    "\n",
    "Q, R = np.linalg.qr(A)\n",
    "\n",
    "X = np.linalg.solve(R,np.dot(Q.T,b))\n",
    "X"
   ]
  },
  {
   "cell_type": "code",
   "execution_count": 9,
   "metadata": {},
   "outputs": [],
   "source": [
    "B = [[1,1],\n",
    "     [1,2],\n",
    "     [0,1]]\n",
    "\n",
    "Q, R = np.linalg.qr(B)\n",
    "\n",
    "x = np.linalg.solve(R, np.dot(Q.T, X))"
   ]
  },
  {
   "cell_type": "code",
   "execution_count": 10,
   "metadata": {},
   "outputs": [
    {
     "data": {
      "text/plain": [
       "array([[-0.19144917],\n",
       "       [ 0.09992328]])"
      ]
     },
     "execution_count": 10,
     "metadata": {},
     "output_type": "execute_result"
    }
   ],
   "source": [
    "x"
   ]
  }
 ],
 "metadata": {
  "interpreter": {
   "hash": "0423b1efffaf888f7e1be31383ad45e2161c81313a377e45ff5b8bc32012980f"
  },
  "kernelspec": {
   "display_name": "Python 3.9.7 64-bit ('SCIENCE': conda)",
   "language": "python",
   "name": "python3"
  },
  "language_info": {
   "codemirror_mode": {
    "name": "ipython",
    "version": 3
   },
   "file_extension": ".py",
   "mimetype": "text/x-python",
   "name": "python",
   "nbconvert_exporter": "python",
   "pygments_lexer": "ipython3",
   "version": "3.9.7"
  },
  "orig_nbformat": 4
 },
 "nbformat": 4,
 "nbformat_minor": 2
}
